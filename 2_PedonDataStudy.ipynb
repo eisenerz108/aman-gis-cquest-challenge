{
 "cells": [
  {
   "cell_type": "code",
   "execution_count": 36,
   "id": "7ae93601-4ff6-45e1-9dd4-0c72f00cd9eb",
   "metadata": {},
   "outputs": [],
   "source": [
    "# Importing the Packages\n",
    "\n",
    "import geopandas as gpd\n",
    "import pandas as pd\n",
    "from shapely.geometry import Point\n",
    "from keplergl import KeplerGl\n",
    "from matplotlib import pyplot as plt\n",
    "import seaborn as sns"
   ]
  },
  {
   "cell_type": "code",
   "execution_count": 37,
   "id": "48af4107-9acf-44f7-82b1-ca410154c58f",
   "metadata": {},
   "outputs": [],
   "source": [
    "# Reading the Data\n",
    "\n",
    "pedons_df = pd.read_csv('data\\RaCA_SOC_pedons.csv')"
   ]
  },
  {
   "cell_type": "code",
   "execution_count": 38,
   "id": "4393044b-ec2c-49e6-91a8-3d8da79e56c0",
   "metadata": {
    "tags": []
   },
   "outputs": [],
   "source": [
    "# Making the List of Columns to Understand the Unique Identifier for both the datasets (Will be helpful for merging as well)\n",
    "# Notes has been made\n",
    "\n",
    "identifiers_pedons = ['upedonid', 'rcasiteid', 'upedon']"
   ]
  },
  {
   "cell_type": "code",
   "execution_count": 39,
   "id": "12f6d876-0b5d-40f3-a042-3bc7f28f71b8",
   "metadata": {},
   "outputs": [
    {
     "data": {
      "text/html": [
       "<div>\n",
       "<style scoped>\n",
       "    .dataframe tbody tr th:only-of-type {\n",
       "        vertical-align: middle;\n",
       "    }\n",
       "\n",
       "    .dataframe tbody tr th {\n",
       "        vertical-align: top;\n",
       "    }\n",
       "\n",
       "    .dataframe thead th {\n",
       "        text-align: right;\n",
       "    }\n",
       "</style>\n",
       "<table border=\"1\" class=\"dataframe\">\n",
       "  <thead>\n",
       "    <tr style=\"text-align: right;\">\n",
       "      <th></th>\n",
       "      <th>upedonid</th>\n",
       "      <th>rcasiteid</th>\n",
       "      <th>upedon</th>\n",
       "    </tr>\n",
       "  </thead>\n",
       "  <tbody>\n",
       "    <tr>\n",
       "      <th>43</th>\n",
       "      <td>C0101F01-1</td>\n",
       "      <td>C0101F01</td>\n",
       "      <td>C0101F011</td>\n",
       "    </tr>\n",
       "  </tbody>\n",
       "</table>\n",
       "</div>"
      ],
      "text/plain": [
       "      upedonid rcasiteid     upedon\n",
       "43  C0101F01-1  C0101F01  C0101F011"
      ]
     },
     "execution_count": 39,
     "metadata": {},
     "output_type": "execute_result"
    }
   ],
   "source": [
    "pedons_df.loc[pedons_df['upedon'] == 'C0101F011'][identifiers_pedons]"
   ]
  },
  {
   "cell_type": "markdown",
   "id": "7fbddaa6-32fc-44c3-b04d-68a2ebc104c2",
   "metadata": {},
   "source": [
    "* `upedon` - Unique RaCA pedon ID contains the site and pedon within the site\n",
    "* `upedonid` - This column has lots of typos, sometimes a hyphen '-' is used sometimes an underscore '_' \n",
    "* `rcasiteid` - This column is needed for the Mapping with the General Location Data"
   ]
  },
  {
   "cell_type": "code",
   "execution_count": 40,
   "id": "805a722f-c69b-41c5-87ea-d74a4fa38c3a",
   "metadata": {},
   "outputs": [],
   "source": [
    "pedons_df.drop(columns = ['upedonid'], inplace=True)"
   ]
  },
  {
   "cell_type": "markdown",
   "id": "5ae4d0d4-402e-4ba1-b280-307edb65f071",
   "metadata": {},
   "source": [
    "upedonid\tlink to User Pedon ID\\\n",
    "MO\tRegion\\\n",
    "MOGr\tSoil Group\\\n",
    "LU\tLU/LC class\\\n",
    "MOGrLU\tGroup and LULC class\\\n",
    "rcasiteid\tindividual RaCA site\\\n",
    "upedon\tunique RaCA pedon ID - contains site and pedon within site\\\n",
    "SOCstock5\tstock summed to 5 cm by fixed depth\\\n",
    "SOCstock30\tstock summed to 30 cm by fixed depth\\\n",
    "SOCstock100\tstock summed to 100 cm by fixed depth\\\n",
    "Sample_count\ttotal no of samples\\\n",
    "total_thickness\tmax bottom depth of pedon\\\n",
    "SOC_count\tno of samples (for this pedon) with SOC\\\n",
    "Lab_count\tno of samples (for this pedon) with a KSSL ID\\\n",
    "Depth_to_R\tdepth to R or Cr horizon\\\n",
    "Non-R_SampleCount\tNumber of samples not including R or Cr's\\\n",
    "SOC_thickness\tMax bottom depth with SOC measured\\\n",
    "USE\tassigns the max depth this pedon should be used for\\"
   ]
  },
  {
   "cell_type": "markdown",
   "id": "6657a0b3-64c2-446c-a165-a7afc6b42b38",
   "metadata": {},
   "source": [
    "\n",
    "## Studying Pedons Dataset (Taking only the Columns to be focused on)"
   ]
  },
  {
   "cell_type": "code",
   "execution_count": 41,
   "id": "8fb985fc-40f4-48d6-8ce7-c8f6f35dcdbb",
   "metadata": {},
   "outputs": [],
   "source": [
    "pedons_columns_needed = ['upedon', 'rcasiteid','SOCstock5','SOCstock30', 'SOCstock100']\n",
    "pedons_df = pedons_df[pedons_columns_needed]"
   ]
  },
  {
   "cell_type": "code",
   "execution_count": 42,
   "id": "1c8afa87-cfab-460a-9b50-13505f97d33d",
   "metadata": {},
   "outputs": [
    {
     "data": {
      "text/html": [
       "<div>\n",
       "<style scoped>\n",
       "    .dataframe tbody tr th:only-of-type {\n",
       "        vertical-align: middle;\n",
       "    }\n",
       "\n",
       "    .dataframe tbody tr th {\n",
       "        vertical-align: top;\n",
       "    }\n",
       "\n",
       "    .dataframe thead th {\n",
       "        text-align: right;\n",
       "    }\n",
       "</style>\n",
       "<table border=\"1\" class=\"dataframe\">\n",
       "  <thead>\n",
       "    <tr style=\"text-align: right;\">\n",
       "      <th></th>\n",
       "      <th>upedon</th>\n",
       "      <th>rcasiteid</th>\n",
       "      <th>SOCstock5</th>\n",
       "      <th>SOCstock30</th>\n",
       "      <th>SOCstock100</th>\n",
       "    </tr>\n",
       "  </thead>\n",
       "  <tbody>\n",
       "    <tr>\n",
       "      <th>0</th>\n",
       "      <td>A0108P921</td>\n",
       "      <td>A0108P92</td>\n",
       "      <td>15.126360</td>\n",
       "      <td>76.022073</td>\n",
       "      <td>100.113941</td>\n",
       "    </tr>\n",
       "    <tr>\n",
       "      <th>1</th>\n",
       "      <td>A0116P901</td>\n",
       "      <td>A0116P90</td>\n",
       "      <td>35.481720</td>\n",
       "      <td>95.965557</td>\n",
       "      <td>242.002573</td>\n",
       "    </tr>\n",
       "    <tr>\n",
       "      <th>2</th>\n",
       "      <td>A0116P941</td>\n",
       "      <td>A0116P94</td>\n",
       "      <td>36.827055</td>\n",
       "      <td>104.147733</td>\n",
       "      <td>293.079581</td>\n",
       "    </tr>\n",
       "    <tr>\n",
       "      <th>3</th>\n",
       "      <td>A0116X971</td>\n",
       "      <td>A0116X97</td>\n",
       "      <td>6.950620</td>\n",
       "      <td>29.854781</td>\n",
       "      <td>69.735244</td>\n",
       "    </tr>\n",
       "    <tr>\n",
       "      <th>4</th>\n",
       "      <td>A0120R931</td>\n",
       "      <td>A0120R93</td>\n",
       "      <td>13.072982</td>\n",
       "      <td>53.249971</td>\n",
       "      <td>116.996856</td>\n",
       "    </tr>\n",
       "  </tbody>\n",
       "</table>\n",
       "</div>"
      ],
      "text/plain": [
       "      upedon rcasiteid  SOCstock5  SOCstock30  SOCstock100\n",
       "0  A0108P921  A0108P92  15.126360   76.022073   100.113941\n",
       "1  A0116P901  A0116P90  35.481720   95.965557   242.002573\n",
       "2  A0116P941  A0116P94  36.827055  104.147733   293.079581\n",
       "3  A0116X971  A0116X97   6.950620   29.854781    69.735244\n",
       "4  A0120R931  A0120R93  13.072982   53.249971   116.996856"
      ]
     },
     "execution_count": 42,
     "metadata": {},
     "output_type": "execute_result"
    }
   ],
   "source": [
    "pedons_df.head()"
   ]
  },
  {
   "cell_type": "code",
   "execution_count": 43,
   "id": "d93101ce-543e-4ed1-98e0-dae010f5954a",
   "metadata": {},
   "outputs": [
    {
     "name": "stdout",
     "output_type": "stream",
     "text": [
      "True\n",
      "True\n"
     ]
    }
   ],
   "source": [
    "print(pedons_df['upedon'].nunique() == len(pedons_df))\n",
    "print(pedons_df['rcasiteid'].nunique() == len(pedons_df))"
   ]
  },
  {
   "cell_type": "markdown",
   "id": "9f1e6c70-0431-4bf7-a665-d77732a738a5",
   "metadata": {},
   "source": [
    "**`Conclusion:`** - There are no duplicate records"
   ]
  },
  {
   "cell_type": "code",
   "execution_count": 44,
   "id": "56d0a07e-639b-4bd8-b328-f69d9c3f3424",
   "metadata": {},
   "outputs": [
    {
     "data": {
      "text/plain": [
       "<AxesSubplot:>"
      ]
     },
     "execution_count": 44,
     "metadata": {},
     "output_type": "execute_result"
    },
    {
     "data": {
      "image/png": "[encoded data removed]",
      "text/plain": [
       "<Figure size 432x288 with 1 Axes>"
      ]
     },
     "metadata": {
      "needs_background": "light"
     },
     "output_type": "display_data"
    }
   ],
   "source": [
    "# Fetching the Land Use from the RaCA Side Id from upedon column and storing in a new column\n",
    "# Taking the Land Use from the upedon column to ensure correct Land Use.\n",
    "pedons_df.loc[:,'Land_Use'] = pedons_df['upedon'].apply(lambda x : x[5])\n",
    "\n",
    "# Creating a dictionary to decode the Letter for the Land Use\n",
    "land_use_dict = dict(C='Cropland', F='Forestland', P='Pastureland', R='Rangeland', W='Wetland', X='CRP')\n",
    "\n",
    "# Replacing the LandUse with the Letters. \n",
    "pedons_df.replace({'Land_Use' : land_use_dict}, inplace=True)\n",
    "\n",
    "#Plotting the Land Use\n",
    "pedons_df.loc[:,'Land_Use'].value_counts().sort_values().plot(kind = 'bar', color=['red','orange','yellow','green','blue','black'])"
   ]
  },
  {
   "cell_type": "markdown",
   "id": "acbd224c-2585-49a1-977e-46e947914a85",
   "metadata": {},
   "source": [
    "#### **`Conclusion:`** Based on the plot, we can say Forestlands had the most data"
   ]
  },
  {
   "cell_type": "code",
   "execution_count": 45,
   "id": "b5484458-ce8f-4dbb-8589-975f28a2069d",
   "metadata": {},
   "outputs": [
    {
     "data": {
      "image/png": "[encoded data removed]",
      "text/plain": [
       "<Figure size 1152x504 with 2 Axes>"
      ]
     },
     "metadata": {
      "needs_background": "light"
     },
     "output_type": "display_data"
    }
   ],
   "source": [
    "plt.figure(figsize=(16,7))\n",
    "sns.heatmap(pedons_df.corr(), annot=True, linewidths = 0.1, cmap=\"YlGnBu\")\n",
    "plt.show()"
   ]
  },
  {
   "cell_type": "markdown",
   "id": "f3ff7d89-fe2c-47a2-a814-b0c52595937d",
   "metadata": {},
   "source": [
    "#### **`Conclusion:`** SOCstock100 and SOCstock30 are highly co-related to each other"
   ]
  },
  {
   "cell_type": "code",
   "execution_count": 46,
   "id": "e3145776-0ed8-4cee-8996-3b9947f71d15",
   "metadata": {},
   "outputs": [
    {
     "data": {
      "text/html": [
       "<div>\n",
       "<style scoped>\n",
       "    .dataframe tbody tr th:only-of-type {\n",
       "        vertical-align: middle;\n",
       "    }\n",
       "\n",
       "    .dataframe tbody tr th {\n",
       "        vertical-align: top;\n",
       "    }\n",
       "\n",
       "    .dataframe thead th {\n",
       "        text-align: right;\n",
       "    }\n",
       "</style>\n",
       "<table border=\"1\" class=\"dataframe\">\n",
       "  <thead>\n",
       "    <tr style=\"text-align: right;\">\n",
       "      <th></th>\n",
       "      <th>upedon</th>\n",
       "      <th>rcasiteid</th>\n",
       "      <th>SOCstock5</th>\n",
       "      <th>SOCstock30</th>\n",
       "      <th>SOCstock100</th>\n",
       "      <th>Land_Use</th>\n",
       "    </tr>\n",
       "  </thead>\n",
       "  <tbody>\n",
       "    <tr>\n",
       "      <th>0</th>\n",
       "      <td>A0108P921</td>\n",
       "      <td>A0108P92</td>\n",
       "      <td>15.126360</td>\n",
       "      <td>76.022073</td>\n",
       "      <td>100.113941</td>\n",
       "      <td>Pastureland</td>\n",
       "    </tr>\n",
       "    <tr>\n",
       "      <th>1</th>\n",
       "      <td>A0116P901</td>\n",
       "      <td>A0116P90</td>\n",
       "      <td>35.481720</td>\n",
       "      <td>95.965557</td>\n",
       "      <td>242.002573</td>\n",
       "      <td>Pastureland</td>\n",
       "    </tr>\n",
       "    <tr>\n",
       "      <th>2</th>\n",
       "      <td>A0116P941</td>\n",
       "      <td>A0116P94</td>\n",
       "      <td>36.827055</td>\n",
       "      <td>104.147733</td>\n",
       "      <td>293.079581</td>\n",
       "      <td>Pastureland</td>\n",
       "    </tr>\n",
       "    <tr>\n",
       "      <th>3</th>\n",
       "      <td>A0116X971</td>\n",
       "      <td>A0116X97</td>\n",
       "      <td>6.950620</td>\n",
       "      <td>29.854781</td>\n",
       "      <td>69.735244</td>\n",
       "      <td>CRP</td>\n",
       "    </tr>\n",
       "    <tr>\n",
       "      <th>4</th>\n",
       "      <td>A0120R931</td>\n",
       "      <td>A0120R93</td>\n",
       "      <td>13.072982</td>\n",
       "      <td>53.249971</td>\n",
       "      <td>116.996856</td>\n",
       "      <td>Rangeland</td>\n",
       "    </tr>\n",
       "  </tbody>\n",
       "</table>\n",
       "</div>"
      ],
      "text/plain": [
       "      upedon rcasiteid  SOCstock5  SOCstock30  SOCstock100     Land_Use\n",
       "0  A0108P921  A0108P92  15.126360   76.022073   100.113941  Pastureland\n",
       "1  A0116P901  A0116P90  35.481720   95.965557   242.002573  Pastureland\n",
       "2  A0116P941  A0116P94  36.827055  104.147733   293.079581  Pastureland\n",
       "3  A0116X971  A0116X97   6.950620   29.854781    69.735244          CRP\n",
       "4  A0120R931  A0120R93  13.072982   53.249971   116.996856    Rangeland"
      ]
     },
     "execution_count": 46,
     "metadata": {},
     "output_type": "execute_result"
    }
   ],
   "source": [
    "pedons_df.head()"
   ]
  },
  {
   "cell_type": "code",
   "execution_count": 47,
   "id": "f376b052-86c3-4583-8483-da62fac29368",
   "metadata": {},
   "outputs": [],
   "source": [
    "grouped = pedons_df.groupby(by='Land_Use')"
   ]
  },
  {
   "cell_type": "code",
   "execution_count": 48,
   "id": "c9e669b3-3896-4161-9dcf-89a5d88ee6ac",
   "metadata": {},
   "outputs": [],
   "source": [
    "def mean_print(key, groups):\n",
    "    print('For Land which is used for - {}'.format(key))\n",
    "    print('\\t The SOCstock5 mean is : {}'.format(groups['SOCstock5'].mean()))\n",
    "    print('\\t The SOCstock30 mean is : {}'.format(groups['SOCstock30'].mean()))\n",
    "    print('\\t The SOCstock100 mean is : {}'.format(groups['SOCstock100'].mean()))"
   ]
  },
  {
   "cell_type": "code",
   "execution_count": 49,
   "id": "95a93294-6bd8-4523-86ba-cb734951a57a",
   "metadata": {},
   "outputs": [],
   "source": [
    "type_land = []\n",
    "SOC5 = []\n",
    "SOC30 = []\n",
    "SOC100 = []"
   ]
  },
  {
   "cell_type": "code",
   "execution_count": 50,
   "id": "7efee236-cac8-475c-a767-f76f9314b7ac",
   "metadata": {},
   "outputs": [],
   "source": [
    "def append_list(key,groups):\n",
    "    type_land.append(key)\n",
    "    SOC5.append(groups['SOCstock5'].mean())\n",
    "    SOC30.append(groups['SOCstock30'].mean())\n",
    "    SOC100.append(groups['SOCstock100'].mean())"
   ]
  },
  {
   "cell_type": "code",
   "execution_count": 51,
   "id": "7bf954cd-821d-4d5a-9c53-188e92218785",
   "metadata": {},
   "outputs": [
    {
     "name": "stdout",
     "output_type": "stream",
     "text": [
      "For Land which is used for - CRP\n",
      "\t The SOCstock5 mean is : 17.94755321132738\n",
      "\t The SOCstock30 mean is : 54.70398204558004\n",
      "\t The SOCstock100 mean is : 91.50707602729554\n",
      "For Land which is used for - Cropland\n",
      "\t The SOCstock5 mean is : 14.199687191123312\n",
      "\t The SOCstock30 mean is : 70.41648119942978\n",
      "\t The SOCstock100 mean is : 146.5111648078408\n",
      "For Land which is used for - Forestland\n",
      "\t The SOCstock5 mean is : 53.15433028072902\n",
      "\t The SOCstock30 mean is : 128.6456394784585\n",
      "\t The SOCstock100 mean is : 207.9934057952518\n",
      "For Land which is used for - Pastureland\n",
      "\t The SOCstock5 mean is : 21.42079596578424\n",
      "\t The SOCstock30 mean is : 73.62087646883595\n",
      "\t The SOCstock100 mean is : 147.79318357660844\n",
      "For Land which is used for - Rangeland\n",
      "\t The SOCstock5 mean is : 12.570540478231836\n",
      "\t The SOCstock30 mean is : 42.790839063136815\n",
      "\t The SOCstock100 mean is : 78.07248038288012\n",
      "For Land which is used for - Wetland\n",
      "\t The SOCstock5 mean is : 52.3758312897122\n",
      "\t The SOCstock30 mean is : 222.9716938365186\n",
      "\t The SOCstock100 mean is : 523.9297384694494\n"
     ]
    }
   ],
   "source": [
    "for key, groups in grouped:\n",
    "    mean_print(key,groups)\n",
    "    append_list(key,groups)"
   ]
  },
  {
   "cell_type": "code",
   "execution_count": 52,
   "id": "e5ad6ebe-e78d-4e18-bd02-45f8d33de71f",
   "metadata": {},
   "outputs": [],
   "source": [
    "df_temp = pd.DataFrame({'SOC5': SOC5,\n",
    "                   'SOC30': SOC30,\n",
    "                   'SOC100': SOC100}, index=type_land)"
   ]
  },
  {
   "cell_type": "code",
   "execution_count": 53,
   "id": "d7b49863-2147-4e6a-9928-ce56f26447b1",
   "metadata": {},
   "outputs": [
    {
     "data": {
      "text/plain": [
       "<AxesSubplot:>"
      ]
     },
     "execution_count": 53,
     "metadata": {},
     "output_type": "execute_result"
    },
    {
     "data": {
      "image/png": "[encoded data removed]",
      "text/plain": [
       "<Figure size 720x720 with 1 Axes>"
      ]
     },
     "metadata": {
      "needs_background": "light"
     },
     "output_type": "display_data"
    }
   ],
   "source": [
    "fig, ax = plt.subplots(figsize=(10,10))\n",
    "df_temp.plot(ax=ax, kind='bar', rot=0)"
   ]
  },
  {
   "cell_type": "markdown",
   "id": "b92e6494-771c-4694-bf44-d7c8d4ae21c7",
   "metadata": {},
   "source": [
    "#### **`Conclusion`** - Wetland has the most (mean) Soil Organic Compound at 100cms depth, and Rangeland has the least. "
   ]
  },
  {
   "cell_type": "code",
   "execution_count": 56,
   "id": "b648dc5c-b66b-437a-b6a0-73638d6372c0",
   "metadata": {},
   "outputs": [],
   "source": [
    "pedons_df.to_csv('processed_data\\pedons_processed.csv', index=None)"
   ]
  },
  {
   "cell_type": "code",
   "execution_count": null,
   "id": "8978ede0-410c-4928-aa8e-4b1ecc4e27e2",
   "metadata": {},
   "outputs": [],
   "source": []
  }
 ],
 "metadata": {
  "kernelspec": {
   "display_name": "Python 3 (ipykernel)",
   "language": "python",
   "name": "python3"
  },
  "language_info": {
   "codemirror_mode": {
    "name": "ipython",
    "version": 3
   },
   "file_extension": ".py",
   "mimetype": "text/x-python",
   "name": "python",
   "nbconvert_exporter": "python",
   "pygments_lexer": "ipython3",
   "version": "3.7.10"
  }
 },
 "nbformat": 4,
 "nbformat_minor": 5
}
