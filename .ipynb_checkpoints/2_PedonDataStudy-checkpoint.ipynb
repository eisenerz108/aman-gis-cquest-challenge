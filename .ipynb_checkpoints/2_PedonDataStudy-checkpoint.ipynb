{
 "cells": [
  {
   "cell_type": "code",
   "execution_count": 62,
   "id": "7ae93601-4ff6-45e1-9dd4-0c72f00cd9eb",
   "metadata": {},
   "outputs": [],
   "source": [
    "# Importing the Packages\n",
    "\n",
    "import geopandas as gpd\n",
    "import pandas as pd\n",
    "from shapely.geometry import Point\n",
    "from keplergl import KeplerGl\n",
    "from matplotlib import pyplot as plt\n",
    "import seaborn as sns"
   ]
  },
  {
   "cell_type": "code",
   "execution_count": 63,
   "id": "48af4107-9acf-44f7-82b1-ca410154c58f",
   "metadata": {},
   "outputs": [],
   "source": [
    "# Reading the Data\n",
    "\n",
    "pedons_df = pd.read_csv(r'data\\RaCA_SOC_pedons.csv')"
   ]
  },
  {
   "cell_type": "code",
   "execution_count": 64,
   "id": "4393044b-ec2c-49e6-91a8-3d8da79e56c0",
   "metadata": {
    "tags": []
   },
   "outputs": [],
   "source": [
    "# Making the List of Columns to Understand the Unique Identifier for both the datasets (Will be helpful for merging as well)\n",
    "\n",
    "identifiers_pedons = ['upedonid', 'rcasiteid', 'upedon']"
   ]
  },
  {
   "cell_type": "code",
   "execution_count": 65,
   "id": "12f6d876-0b5d-40f3-a042-3bc7f28f71b8",
   "metadata": {},
   "outputs": [
    {
     "data": {
      "text/html": [
       "<div>\n",
       "<style scoped>\n",
       "    .dataframe tbody tr th:only-of-type {\n",
       "        vertical-align: middle;\n",
       "    }\n",
       "\n",
       "    .dataframe tbody tr th {\n",
       "        vertical-align: top;\n",
       "    }\n",
       "\n",
       "    .dataframe thead th {\n",
       "        text-align: right;\n",
       "    }\n",
       "</style>\n",
       "<table border=\"1\" class=\"dataframe\">\n",
       "  <thead>\n",
       "    <tr style=\"text-align: right;\">\n",
       "      <th></th>\n",
       "      <th>upedonid</th>\n",
       "      <th>rcasiteid</th>\n",
       "      <th>upedon</th>\n",
       "    </tr>\n",
       "  </thead>\n",
       "  <tbody>\n",
       "    <tr>\n",
       "      <th>43</th>\n",
       "      <td>C0101F01-1</td>\n",
       "      <td>C0101F01</td>\n",
       "      <td>C0101F011</td>\n",
       "    </tr>\n",
       "  </tbody>\n",
       "</table>\n",
       "</div>"
      ],
      "text/plain": [
       "      upedonid rcasiteid     upedon\n",
       "43  C0101F01-1  C0101F01  C0101F011"
      ]
     },
     "execution_count": 65,
     "metadata": {},
     "output_type": "execute_result"
    }
   ],
   "source": [
    "pedons_df.loc[pedons_df['upedon'] == 'C0101F011'][identifiers_pedons]"
   ]
  },
  {
   "cell_type": "markdown",
   "id": "7fbddaa6-32fc-44c3-b04d-68a2ebc104c2",
   "metadata": {},
   "source": [
    "* `upedon` - Unique RaCA pedon ID contains the site and pedon within the site\n",
    "* `upedonid` - This column has lots of typos, sometimes a hyphen '-' is used sometimes an underscore '_' \n",
    "* `rcasiteid` - This column is needed for the Mapping with the General Location Data"
   ]
  },
  {
   "cell_type": "code",
   "execution_count": 66,
   "id": "805a722f-c69b-41c5-87ea-d74a4fa38c3a",
   "metadata": {},
   "outputs": [],
   "source": [
    "pedons_df.drop(columns = ['upedonid'], inplace=True)"
   ]
  },
  {
   "cell_type": "markdown",
   "id": "6657a0b3-64c2-446c-a165-a7afc6b42b38",
   "metadata": {},
   "source": [
    "\n",
    "## Studying Pedons Dataset (Taking only the Columns to be focused on)"
   ]
  },
  {
   "cell_type": "code",
   "execution_count": 67,
   "id": "8fb985fc-40f4-48d6-8ce7-c8f6f35dcdbb",
   "metadata": {},
   "outputs": [],
   "source": [
    "# Taking the list of columns which are needed for data analysis - Along with the Identifiers. \n",
    "\n",
    "pedons_columns_needed = ['upedon', 'rcasiteid','SOCstock5','SOCstock30', 'SOCstock100']\n",
    "pedons_df = pedons_df[pedons_columns_needed]"
   ]
  },
  {
   "cell_type": "code",
   "execution_count": 68,
   "id": "1c8afa87-cfab-460a-9b50-13505f97d33d",
   "metadata": {},
   "outputs": [
    {
     "data": {
      "text/html": [
       "<div>\n",
       "<style scoped>\n",
       "    .dataframe tbody tr th:only-of-type {\n",
       "        vertical-align: middle;\n",
       "    }\n",
       "\n",
       "    .dataframe tbody tr th {\n",
       "        vertical-align: top;\n",
       "    }\n",
       "\n",
       "    .dataframe thead th {\n",
       "        text-align: right;\n",
       "    }\n",
       "</style>\n",
       "<table border=\"1\" class=\"dataframe\">\n",
       "  <thead>\n",
       "    <tr style=\"text-align: right;\">\n",
       "      <th></th>\n",
       "      <th>upedon</th>\n",
       "      <th>rcasiteid</th>\n",
       "      <th>SOCstock5</th>\n",
       "      <th>SOCstock30</th>\n",
       "      <th>SOCstock100</th>\n",
       "    </tr>\n",
       "  </thead>\n",
       "  <tbody>\n",
       "    <tr>\n",
       "      <th>0</th>\n",
       "      <td>A0108P921</td>\n",
       "      <td>A0108P92</td>\n",
       "      <td>15.126360</td>\n",
       "      <td>76.022073</td>\n",
       "      <td>100.113941</td>\n",
       "    </tr>\n",
       "    <tr>\n",
       "      <th>1</th>\n",
       "      <td>A0116P901</td>\n",
       "      <td>A0116P90</td>\n",
       "      <td>35.481720</td>\n",
       "      <td>95.965557</td>\n",
       "      <td>242.002573</td>\n",
       "    </tr>\n",
       "    <tr>\n",
       "      <th>2</th>\n",
       "      <td>A0116P941</td>\n",
       "      <td>A0116P94</td>\n",
       "      <td>36.827055</td>\n",
       "      <td>104.147733</td>\n",
       "      <td>293.079581</td>\n",
       "    </tr>\n",
       "    <tr>\n",
       "      <th>3</th>\n",
       "      <td>A0116X971</td>\n",
       "      <td>A0116X97</td>\n",
       "      <td>6.950620</td>\n",
       "      <td>29.854781</td>\n",
       "      <td>69.735244</td>\n",
       "    </tr>\n",
       "    <tr>\n",
       "      <th>4</th>\n",
       "      <td>A0120R931</td>\n",
       "      <td>A0120R93</td>\n",
       "      <td>13.072982</td>\n",
       "      <td>53.249971</td>\n",
       "      <td>116.996856</td>\n",
       "    </tr>\n",
       "  </tbody>\n",
       "</table>\n",
       "</div>"
      ],
      "text/plain": [
       "      upedon rcasiteid  SOCstock5  SOCstock30  SOCstock100\n",
       "0  A0108P921  A0108P92  15.126360   76.022073   100.113941\n",
       "1  A0116P901  A0116P90  35.481720   95.965557   242.002573\n",
       "2  A0116P941  A0116P94  36.827055  104.147733   293.079581\n",
       "3  A0116X971  A0116X97   6.950620   29.854781    69.735244\n",
       "4  A0120R931  A0120R93  13.072982   53.249971   116.996856"
      ]
     },
     "execution_count": 68,
     "metadata": {},
     "output_type": "execute_result"
    }
   ],
   "source": [
    "pedons_df.head()"
   ]
  },
  {
   "cell_type": "code",
   "execution_count": 69,
   "id": "d93101ce-543e-4ed1-98e0-dae010f5954a",
   "metadata": {},
   "outputs": [
    {
     "name": "stdout",
     "output_type": "stream",
     "text": [
      "True\n",
      "True\n"
     ]
    }
   ],
   "source": [
    "# Checking if there are no duplicate entries for upedon and rcasiteid\n",
    "\n",
    "print(pedons_df['upedon'].nunique() == len(pedons_df))\n",
    "print(pedons_df['rcasiteid'].nunique() == len(pedons_df))"
   ]
  },
  {
   "cell_type": "markdown",
   "id": "9f1e6c70-0431-4bf7-a665-d77732a738a5",
   "metadata": {},
   "source": [
    "**`Conclusion:`** - There are no duplicate records"
   ]
  },
  {
   "cell_type": "code",
   "execution_count": 78,
   "id": "56d0a07e-639b-4bd8-b328-f69d9c3f3424",
   "metadata": {},
   "outputs": [
    {
     "name": "stdout",
     "output_type": "stream",
     "text": [
      "['ForestLand', 'RangeLand', 'CropLand', 'PastureLand', 'Wetland', 'CRP']\n"
     ]
    },
    {
     "data": {
      "image/png": "[encoded data removed]",
      "text/plain": [
       "<Figure size 720x720 with 1 Axes>"
      ]
     },
     "metadata": {},
     "output_type": "display_data"
    },
    {
     "data": {
      "text/plain": [
       "<Figure size 432x288 with 0 Axes>"
      ]
     },
     "metadata": {},
     "output_type": "display_data"
    }
   ],
   "source": [
    "# Fetching the Land Use from the RaCA Side Id from upedon column and storing in a new column\n",
    "# Taking the Land Use from the upedon column to ensure correct Land Use is entered for each data\n",
    "\n",
    "#Slicing and taking the Keyword from the unique pedon ID i.e the 6th Letter of the code.\n",
    "pedons_df.loc[:,'Land_Use'] = pedons_df['upedon'].apply(lambda x : x[5])\n",
    "\n",
    "# Creating a dictionary to decode the Letter for the Land Use\n",
    "land_use_dict = dict(C='Cropland', F='Forestland', P='Pastureland', R='Rangeland', W='Wetland', X='CRP')\n",
    "\n",
    "# Replacing the LandUse with the Letters keywords. \n",
    "pedons_df.replace({'Land_Use' : land_use_dict}, inplace=True)\n",
    "\n",
    "\n",
    "fig, ax = plt.subplots(figsize=(10,10))\n",
    "\n",
    "#Plotting the Land Use in Pie Plot.\n",
    "labels = ['ForestLand', 'RangeLand', 'CropLand', 'PastureLand', 'Wetland', 'CRP']\n",
    "explode = (0.1, 0, 0, 0, 0, 0)\n",
    "print(labels)\n",
    "plt.pie(pedons_df.loc[:,'Land_Use'].value_counts(), labels=labels, shadow=True, startangle=90, explode=explode)\n",
    "plt.title('Land Use distribution Pie Chart')\n",
    "plt.show()\n",
    "plt.savefig(r'output\\images\\2_landuse_distribution_pie.png')"
   ]
  },
  {
   "cell_type": "markdown",
   "id": "acbd224c-2585-49a1-977e-46e947914a85",
   "metadata": {},
   "source": [
    "#### **`Conclusion:`** Based on the plot, we can say most of the Pedons (And Samples) are picked from the Forestland LandUse"
   ]
  },
  {
   "cell_type": "code",
   "execution_count": 77,
   "id": "b5484458-ce8f-4dbb-8589-975f28a2069d",
   "metadata": {},
   "outputs": [
    {
     "data": {
      "image/png": "[encoded data removed]",
      "text/plain": [
       "<Figure size 1152x504 with 2 Axes>"
      ]
     },
     "metadata": {
      "needs_background": "light"
     },
     "output_type": "display_data"
    },
    {
     "data": {
      "text/plain": [
       "<Figure size 432x288 with 0 Axes>"
      ]
     },
     "metadata": {},
     "output_type": "display_data"
    }
   ],
   "source": [
    "# Plotting the correlation matrix of SOCStocks at 5, 30 and 100 cms.\n",
    "\n",
    "plt.figure(figsize=(16,7))\n",
    "sns.heatmap(pedons_df.corr(), annot=True, linewidths = 0.1, cmap=\"YlGnBu\")\n",
    "plt.title('Correlation matrix of the SOC for 5,30 and 100 cms')\n",
    "plt.show()\n",
    "plt.savefig(r'output\\images\\2_correlationmatrix_soc.png')"
   ]
  },
  {
   "cell_type": "markdown",
   "id": "f3ff7d89-fe2c-47a2-a814-b0c52595937d",
   "metadata": {},
   "source": [
    "#### **`Conclusion:`** SOCstock100 and SOCstock30 are highly co-related to each other"
   ]
  },
  {
   "cell_type": "code",
   "execution_count": 72,
   "id": "e3145776-0ed8-4cee-8996-3b9947f71d15",
   "metadata": {},
   "outputs": [
    {
     "data": {
      "text/html": [
       "<div>\n",
       "<style scoped>\n",
       "    .dataframe tbody tr th:only-of-type {\n",
       "        vertical-align: middle;\n",
       "    }\n",
       "\n",
       "    .dataframe tbody tr th {\n",
       "        vertical-align: top;\n",
       "    }\n",
       "\n",
       "    .dataframe thead th {\n",
       "        text-align: right;\n",
       "    }\n",
       "</style>\n",
       "<table border=\"1\" class=\"dataframe\">\n",
       "  <thead>\n",
       "    <tr style=\"text-align: right;\">\n",
       "      <th></th>\n",
       "      <th>upedon</th>\n",
       "      <th>rcasiteid</th>\n",
       "      <th>SOCstock5</th>\n",
       "      <th>SOCstock30</th>\n",
       "      <th>SOCstock100</th>\n",
       "      <th>Land_Use</th>\n",
       "    </tr>\n",
       "  </thead>\n",
       "  <tbody>\n",
       "    <tr>\n",
       "      <th>0</th>\n",
       "      <td>A0108P921</td>\n",
       "      <td>A0108P92</td>\n",
       "      <td>15.126360</td>\n",
       "      <td>76.022073</td>\n",
       "      <td>100.113941</td>\n",
       "      <td>Pastureland</td>\n",
       "    </tr>\n",
       "    <tr>\n",
       "      <th>1</th>\n",
       "      <td>A0116P901</td>\n",
       "      <td>A0116P90</td>\n",
       "      <td>35.481720</td>\n",
       "      <td>95.965557</td>\n",
       "      <td>242.002573</td>\n",
       "      <td>Pastureland</td>\n",
       "    </tr>\n",
       "    <tr>\n",
       "      <th>2</th>\n",
       "      <td>A0116P941</td>\n",
       "      <td>A0116P94</td>\n",
       "      <td>36.827055</td>\n",
       "      <td>104.147733</td>\n",
       "      <td>293.079581</td>\n",
       "      <td>Pastureland</td>\n",
       "    </tr>\n",
       "    <tr>\n",
       "      <th>3</th>\n",
       "      <td>A0116X971</td>\n",
       "      <td>A0116X97</td>\n",
       "      <td>6.950620</td>\n",
       "      <td>29.854781</td>\n",
       "      <td>69.735244</td>\n",
       "      <td>CRP</td>\n",
       "    </tr>\n",
       "    <tr>\n",
       "      <th>4</th>\n",
       "      <td>A0120R931</td>\n",
       "      <td>A0120R93</td>\n",
       "      <td>13.072982</td>\n",
       "      <td>53.249971</td>\n",
       "      <td>116.996856</td>\n",
       "      <td>Rangeland</td>\n",
       "    </tr>\n",
       "  </tbody>\n",
       "</table>\n",
       "</div>"
      ],
      "text/plain": [
       "      upedon rcasiteid  SOCstock5  SOCstock30  SOCstock100     Land_Use\n",
       "0  A0108P921  A0108P92  15.126360   76.022073   100.113941  Pastureland\n",
       "1  A0116P901  A0116P90  35.481720   95.965557   242.002573  Pastureland\n",
       "2  A0116P941  A0116P94  36.827055  104.147733   293.079581  Pastureland\n",
       "3  A0116X971  A0116X97   6.950620   29.854781    69.735244          CRP\n",
       "4  A0120R931  A0120R93  13.072982   53.249971   116.996856    Rangeland"
      ]
     },
     "execution_count": 72,
     "metadata": {},
     "output_type": "execute_result"
    }
   ],
   "source": [
    "pedons_df.head()"
   ]
  },
  {
   "cell_type": "code",
   "execution_count": 73,
   "id": "b648dc5c-b66b-437a-b6a0-73638d6372c0",
   "metadata": {},
   "outputs": [],
   "source": [
    "pedons_df.to_csv(r'processed_data\\pedons_processed.csv', index=None)"
   ]
  },
  {
   "cell_type": "code",
   "execution_count": null,
   "id": "8978ede0-410c-4928-aa8e-4b1ecc4e27e2",
   "metadata": {},
   "outputs": [],
   "source": []
  }
 ],
 "metadata": {
  "kernelspec": {
   "display_name": "Python 3 (ipykernel)",
   "language": "python",
   "name": "python3"
  },
  "language_info": {
   "codemirror_mode": {
    "name": "ipython",
    "version": 3
   },
   "file_extension": ".py",
   "mimetype": "text/x-python",
   "name": "python",
   "nbconvert_exporter": "python",
   "pygments_lexer": "ipython3",
   "version": "3.7.10"
  }
 },
 "nbformat": 4,
 "nbformat_minor": 5
}
