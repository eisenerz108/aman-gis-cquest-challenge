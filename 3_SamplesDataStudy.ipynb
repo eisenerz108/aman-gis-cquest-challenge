{
 "cells": [
  {
   "cell_type": "code",
   "execution_count": 40,
   "id": "4abdbd6c-d6a4-45f8-8940-06867e2ea5a6",
   "metadata": {
    "tags": []
   },
   "outputs": [],
   "source": [
    "# Importing the Packages\n",
    "\n",
    "import geopandas as gpd\n",
    "import pandas as pd"
   ]
  },
  {
   "cell_type": "code",
   "execution_count": 41,
   "id": "a9f4dbc1-b4e7-4b7a-94d9-e50b9deb2041",
   "metadata": {},
   "outputs": [],
   "source": [
    "# Importing and reading the files from the data folder \n",
    "\n",
    "samples_df = pd.read_csv(r'data\\RaCA_samples.csv')"
   ]
  },
  {
   "cell_type": "code",
   "execution_count": 42,
   "id": "2e6117eb-cd32-4e0c-a778-b6399b8ccd8e",
   "metadata": {
    "tags": []
   },
   "outputs": [],
   "source": [
    "# Making the List of Columns to Understand the Unique Identifier for both the datasets (Will be helpful for merging as well)\n",
    "\n",
    "identifiers_samples = ['samp', 'sample.id', 'rcasiteid', 'pedon_no', 'upedonid', 'upedon']"
   ]
  },
  {
   "cell_type": "code",
   "execution_count": 43,
   "id": "9bf5aba1-1692-485a-b97d-c87a3e49b427",
   "metadata": {},
   "outputs": [
    {
     "data": {
      "text/html": [
       "<div>\n",
       "<style scoped>\n",
       "    .dataframe tbody tr th:only-of-type {\n",
       "        vertical-align: middle;\n",
       "    }\n",
       "\n",
       "    .dataframe tbody tr th {\n",
       "        vertical-align: top;\n",
       "    }\n",
       "\n",
       "    .dataframe thead th {\n",
       "        text-align: right;\n",
       "    }\n",
       "</style>\n",
       "<table border=\"1\" class=\"dataframe\">\n",
       "  <thead>\n",
       "    <tr style=\"text-align: right;\">\n",
       "      <th></th>\n",
       "      <th>samp</th>\n",
       "      <th>sample.id</th>\n",
       "      <th>rcasiteid</th>\n",
       "      <th>pedon_no</th>\n",
       "      <th>upedonid</th>\n",
       "      <th>upedon</th>\n",
       "    </tr>\n",
       "  </thead>\n",
       "  <tbody>\n",
       "    <tr>\n",
       "      <th>0</th>\n",
       "      <td>C0101F011-1</td>\n",
       "      <td>1.0</td>\n",
       "      <td>C0101F01</td>\n",
       "      <td>1</td>\n",
       "      <td>C0101F01-1</td>\n",
       "      <td>C0101F011</td>\n",
       "    </tr>\n",
       "    <tr>\n",
       "      <th>1</th>\n",
       "      <td>C0101F011-2</td>\n",
       "      <td>1.0</td>\n",
       "      <td>C0101F01</td>\n",
       "      <td>1</td>\n",
       "      <td>C0101F01-1</td>\n",
       "      <td>C0101F011</td>\n",
       "    </tr>\n",
       "    <tr>\n",
       "      <th>2</th>\n",
       "      <td>C0101F011-3</td>\n",
       "      <td>2.0</td>\n",
       "      <td>C0101F01</td>\n",
       "      <td>1</td>\n",
       "      <td>C0101F01-1</td>\n",
       "      <td>C0101F011</td>\n",
       "    </tr>\n",
       "  </tbody>\n",
       "</table>\n",
       "</div>"
      ],
      "text/plain": [
       "          samp  sample.id rcasiteid  pedon_no    upedonid     upedon\n",
       "0  C0101F011-1        1.0  C0101F01         1  C0101F01-1  C0101F011\n",
       "1  C0101F011-2        1.0  C0101F01         1  C0101F01-1  C0101F011\n",
       "2  C0101F011-3        2.0  C0101F01         1  C0101F01-1  C0101F011"
      ]
     },
     "execution_count": 43,
     "metadata": {},
     "output_type": "execute_result"
    }
   ],
   "source": [
    "samples_df[identifiers_samples].head(3)"
   ]
  },
  {
   "cell_type": "markdown",
   "id": "e965d2b3-8f9c-4f3a-b9c5-8fc6249fab9c",
   "metadata": {},
   "source": [
    "* `samp` - Looks the most informative, with having the rca site id (C0101F01), along with the pedon number (01) and the sample number (-1)*\n",
    "* `samp` - XXXXXXXXY-Z (Where X is the rca site ID, y is the pedon number of the site, and Z is the sample number)\n",
    "* We can use `upedon` and `samp` and `rcasiteid` columns and remove the others\n",
    "* `samp` - To get the sample IDs\n",
    "* `rcasiteid` - To Merge with General location data\n",
    "* `upedon` - Has the pedon number with the rcasiteid"
   ]
  },
  {
   "cell_type": "code",
   "execution_count": 44,
   "id": "2534c46a-98b7-4391-9a72-5edfdaa1dd0b",
   "metadata": {},
   "outputs": [],
   "source": [
    "samples_df.drop(columns=['sample.id', 'pedon_no', 'upedonid'], inplace=True)"
   ]
  },
  {
   "cell_type": "markdown",
   "id": "a77fa537-7d44-4ab8-b56a-2ef0ac753309",
   "metadata": {},
   "source": [
    "### Samples Data Set"
   ]
  },
  {
   "cell_type": "code",
   "execution_count": 45,
   "id": "c6e0a835-6d93-487f-9376-c78ba16fbecf",
   "metadata": {},
   "outputs": [],
   "source": [
    "# Taking the list of columns which are needed for data analysis - Along with the Identifiers. \n",
    "\n",
    "samples_columns_needed = ['samp','rcasiteid','upedon','TOP','BOT','Bulkdensity','SOC_pred1','Texture','fragvolc','c_tot_ncs','n_tot_ncs','s_tot_ncs','caco3']\n",
    "samples_df = samples_df[samples_columns_needed]"
   ]
  },
  {
   "cell_type": "code",
   "execution_count": 46,
   "id": "a272eb1c-24ce-411b-bddb-f9e6a141928c",
   "metadata": {},
   "outputs": [
    {
     "data": {
      "text/html": [
       "<div>\n",
       "<style scoped>\n",
       "    .dataframe tbody tr th:only-of-type {\n",
       "        vertical-align: middle;\n",
       "    }\n",
       "\n",
       "    .dataframe tbody tr th {\n",
       "        vertical-align: top;\n",
       "    }\n",
       "\n",
       "    .dataframe thead th {\n",
       "        text-align: right;\n",
       "    }\n",
       "</style>\n",
       "<table border=\"1\" class=\"dataframe\">\n",
       "  <thead>\n",
       "    <tr style=\"text-align: right;\">\n",
       "      <th></th>\n",
       "      <th>samp</th>\n",
       "      <th>rcasiteid</th>\n",
       "      <th>upedon</th>\n",
       "      <th>TOP</th>\n",
       "      <th>BOT</th>\n",
       "      <th>Bulkdensity</th>\n",
       "      <th>SOC_pred1</th>\n",
       "      <th>Texture</th>\n",
       "      <th>fragvolc</th>\n",
       "      <th>c_tot_ncs</th>\n",
       "      <th>n_tot_ncs</th>\n",
       "      <th>s_tot_ncs</th>\n",
       "      <th>caco3</th>\n",
       "    </tr>\n",
       "  </thead>\n",
       "  <tbody>\n",
       "    <tr>\n",
       "      <th>0</th>\n",
       "      <td>C0101F011-1</td>\n",
       "      <td>C0101F01</td>\n",
       "      <td>C0101F011</td>\n",
       "      <td>0</td>\n",
       "      <td>5</td>\n",
       "      <td>0.881002</td>\n",
       "      <td>49.674091</td>\n",
       "      <td>PM</td>\n",
       "      <td>0.0</td>\n",
       "      <td>48.094150</td>\n",
       "      <td>2.401340</td>\n",
       "      <td>0.187482</td>\n",
       "      <td>NaN</td>\n",
       "    </tr>\n",
       "    <tr>\n",
       "      <th>1</th>\n",
       "      <td>C0101F011-2</td>\n",
       "      <td>C0101F01</td>\n",
       "      <td>C0101F011</td>\n",
       "      <td>5</td>\n",
       "      <td>22</td>\n",
       "      <td>0.881002</td>\n",
       "      <td>49.674091</td>\n",
       "      <td>PM</td>\n",
       "      <td>0.0</td>\n",
       "      <td>50.142574</td>\n",
       "      <td>1.621640</td>\n",
       "      <td>0.095915</td>\n",
       "      <td>NaN</td>\n",
       "    </tr>\n",
       "    <tr>\n",
       "      <th>2</th>\n",
       "      <td>C0101F011-3</td>\n",
       "      <td>C0101F01</td>\n",
       "      <td>C0101F011</td>\n",
       "      <td>22</td>\n",
       "      <td>100</td>\n",
       "      <td>0.967665</td>\n",
       "      <td>55.530000</td>\n",
       "      <td>PM</td>\n",
       "      <td>0.0</td>\n",
       "      <td>55.529768</td>\n",
       "      <td>1.177027</td>\n",
       "      <td>0.031538</td>\n",
       "      <td>NaN</td>\n",
       "    </tr>\n",
       "    <tr>\n",
       "      <th>3</th>\n",
       "      <td>C0101F012-1</td>\n",
       "      <td>C0101F01</td>\n",
       "      <td>C0101F012</td>\n",
       "      <td>0</td>\n",
       "      <td>7</td>\n",
       "      <td>0.884497</td>\n",
       "      <td>43.370000</td>\n",
       "      <td>PM</td>\n",
       "      <td>0.0</td>\n",
       "      <td>43.365442</td>\n",
       "      <td>2.165691</td>\n",
       "      <td>0.078548</td>\n",
       "      <td>NaN</td>\n",
       "    </tr>\n",
       "    <tr>\n",
       "      <th>4</th>\n",
       "      <td>C0101F012-2</td>\n",
       "      <td>C0101F01</td>\n",
       "      <td>C0101F012</td>\n",
       "      <td>7</td>\n",
       "      <td>41</td>\n",
       "      <td>0.910510</td>\n",
       "      <td>44.860000</td>\n",
       "      <td>PM</td>\n",
       "      <td>0.0</td>\n",
       "      <td>44.857623</td>\n",
       "      <td>2.438623</td>\n",
       "      <td>0.082074</td>\n",
       "      <td>NaN</td>\n",
       "    </tr>\n",
       "  </tbody>\n",
       "</table>\n",
       "</div>"
      ],
      "text/plain": [
       "          samp rcasiteid     upedon  TOP  BOT  Bulkdensity  SOC_pred1 Texture  \\\n",
       "0  C0101F011-1  C0101F01  C0101F011    0    5     0.881002  49.674091      PM   \n",
       "1  C0101F011-2  C0101F01  C0101F011    5   22     0.881002  49.674091      PM   \n",
       "2  C0101F011-3  C0101F01  C0101F011   22  100     0.967665  55.530000      PM   \n",
       "3  C0101F012-1  C0101F01  C0101F012    0    7     0.884497  43.370000      PM   \n",
       "4  C0101F012-2  C0101F01  C0101F012    7   41     0.910510  44.860000      PM   \n",
       "\n",
       "   fragvolc  c_tot_ncs  n_tot_ncs  s_tot_ncs  caco3  \n",
       "0       0.0  48.094150   2.401340   0.187482    NaN  \n",
       "1       0.0  50.142574   1.621640   0.095915    NaN  \n",
       "2       0.0  55.529768   1.177027   0.031538    NaN  \n",
       "3       0.0  43.365442   2.165691   0.078548    NaN  \n",
       "4       0.0  44.857623   2.438623   0.082074    NaN  "
      ]
     },
     "execution_count": 46,
     "metadata": {},
     "output_type": "execute_result"
    }
   ],
   "source": [
    "samples_df.head()"
   ]
  },
  {
   "cell_type": "code",
   "execution_count": 47,
   "id": "c3e894d7-df50-483e-8a29-30c852f78632",
   "metadata": {},
   "outputs": [
    {
     "data": {
      "text/plain": [
       "False"
      ]
     },
     "execution_count": 47,
     "metadata": {},
     "output_type": "execute_result"
    }
   ],
   "source": [
    "# Checking if the sample ids entries have any duplicate columns or not.\n",
    "\n",
    "len(samples_df) == samples_df['samp'].nunique()"
   ]
  },
  {
   "cell_type": "code",
   "execution_count": 48,
   "id": "18b631b3-ba55-4af9-8cf7-13b80da1e3f1",
   "metadata": {},
   "outputs": [
    {
     "data": {
      "text/plain": [
       "C0408C011-1    2\n",
       "C0101F011-1    1\n",
       "C0310W051-1    1\n",
       "C0310W051-3    1\n",
       "C0310W051-4    1\n",
       "              ..\n",
       "C0208C044-1    1\n",
       "C0208C044-2    1\n",
       "C0208C044-3    1\n",
       "C0208C044-4    1\n",
       "C0508C012-1    1\n",
       "Name: samp, Length: 38204, dtype: int64"
      ]
     },
     "execution_count": 48,
     "metadata": {},
     "output_type": "execute_result"
    }
   ],
   "source": [
    "samples_df['samp'].value_counts()"
   ]
  },
  {
   "cell_type": "code",
   "execution_count": 49,
   "id": "30277774-5b98-4784-97ac-b90dc748108b",
   "metadata": {},
   "outputs": [
    {
     "name": "stdout",
     "output_type": "stream",
     "text": [
      "              samp rcasiteid     upedon  TOP  BOT  Bulkdensity  SOC_pred1  \\\n",
      "30320  C0408C011-1  C0408C01  C0408C011    0    5      1.02724   3.774521   \n",
      "30321  C0408C011-1  C0408C01  C0408C011    5   20      1.02724   3.774521   \n",
      "\n",
      "      Texture  fragvolc  c_tot_ncs  n_tot_ncs  s_tot_ncs  caco3  \n",
      "30320    None       0.0   2.808927   0.278951   0.004087    NaN  \n",
      "30321    None       0.0   2.397246   0.222952   0.000000    NaN  \n"
     ]
    }
   ],
   "source": [
    "# Printing the index of the duplicated sampled id.\n",
    "print(samples_df.loc[samples_df['samp'] == 'C0408C011-1'])"
   ]
  },
  {
   "cell_type": "code",
   "execution_count": 50,
   "id": "d5dfecc9-e7e4-45b4-84ac-0a68a54adcad",
   "metadata": {},
   "outputs": [],
   "source": [
    "samples_df.drop(index=30321, inplace=True)"
   ]
  },
  {
   "cell_type": "code",
   "execution_count": 51,
   "id": "1a4bc9b6-3b52-4110-ad0a-f0c5aad8e481",
   "metadata": {},
   "outputs": [
    {
     "data": {
      "text/plain": [
       "True"
      ]
     },
     "execution_count": 51,
     "metadata": {},
     "output_type": "execute_result"
    }
   ],
   "source": [
    "len(samples_df) == samples_df['samp'].nunique()"
   ]
  },
  {
   "cell_type": "code",
   "execution_count": 52,
   "id": "5deb4f72-1f95-4ac5-8065-b84dce0478ef",
   "metadata": {},
   "outputs": [],
   "source": [
    "samples_df.to_csv(r'processed_data\\sample_data_processed.csv', index=None)"
   ]
  }
 ],
 "metadata": {
  "kernelspec": {
   "display_name": "Python 3 (ipykernel)",
   "language": "python",
   "name": "python3"
  },
  "language_info": {
   "codemirror_mode": {
    "name": "ipython",
    "version": 3
   },
   "file_extension": ".py",
   "mimetype": "text/x-python",
   "name": "python",
   "nbconvert_exporter": "python",
   "pygments_lexer": "ipython3",
   "version": "3.7.10"
  }
 },
 "nbformat": 4,
 "nbformat_minor": 5
}
