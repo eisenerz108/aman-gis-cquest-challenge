{
 "cells": [
  {
   "cell_type": "code",
   "execution_count": 19,
   "id": "b0b03bba-60f9-45a2-8a55-1afc6eb086d0",
   "metadata": {},
   "outputs": [],
   "source": [
    "# Importing the Packages\n",
    "\n",
    "import geopandas as gpd\n",
    "import pandas as pd\n",
    "from shapely.geometry import Point\n",
    "from keplergl import KeplerGl"
   ]
  },
  {
   "cell_type": "code",
   "execution_count": 20,
   "id": "29d11809-c4bd-4034-9953-02ff1f9273dc",
   "metadata": {},
   "outputs": [],
   "source": [
    "# Reading the Data\n",
    "\n",
    "general_location_df = pd.read_csv('data\\RaCa_general_location.csv')"
   ]
  },
  {
   "cell_type": "code",
   "execution_count": 12,
   "id": "2fe0dd45-2e9b-4093-9d0b-f93d76aad174",
   "metadata": {},
   "outputs": [
    {
     "data": {
      "text/html": [
       "<div>\n",
       "<style scoped>\n",
       "    .dataframe tbody tr th:only-of-type {\n",
       "        vertical-align: middle;\n",
       "    }\n",
       "\n",
       "    .dataframe tbody tr th {\n",
       "        vertical-align: top;\n",
       "    }\n",
       "\n",
       "    .dataframe thead th {\n",
       "        text-align: right;\n",
       "    }\n",
       "</style>\n",
       "<table border=\"1\" class=\"dataframe\">\n",
       "  <thead>\n",
       "    <tr style=\"text-align: right;\">\n",
       "      <th></th>\n",
       "      <th>RaCA_Id</th>\n",
       "      <th>geometry</th>\n",
       "    </tr>\n",
       "  </thead>\n",
       "  <tbody>\n",
       "    <tr>\n",
       "      <th>0</th>\n",
       "      <td>C0107F02</td>\n",
       "      <td>POINT (-124.65000 48.27000)</td>\n",
       "    </tr>\n",
       "    <tr>\n",
       "      <th>1</th>\n",
       "      <td>C0104F05</td>\n",
       "      <td>POINT (-124.52000 47.92000)</td>\n",
       "    </tr>\n",
       "    <tr>\n",
       "      <th>2</th>\n",
       "      <td>C0104F09</td>\n",
       "      <td>POINT (-124.50000 47.90000)</td>\n",
       "    </tr>\n",
       "    <tr>\n",
       "      <th>3</th>\n",
       "      <td>C0120P02</td>\n",
       "      <td>POINT (-124.49000 42.80000)</td>\n",
       "    </tr>\n",
       "    <tr>\n",
       "      <th>4</th>\n",
       "      <td>C0104F03</td>\n",
       "      <td>POINT (-124.48000 46.80000)</td>\n",
       "    </tr>\n",
       "    <tr>\n",
       "      <th>...</th>\n",
       "      <td>...</td>\n",
       "      <td>...</td>\n",
       "    </tr>\n",
       "    <tr>\n",
       "      <th>6400</th>\n",
       "      <td>C0606W02</td>\n",
       "      <td>POINT (-110.77000 39.46000)</td>\n",
       "    </tr>\n",
       "    <tr>\n",
       "      <th>6401</th>\n",
       "      <td>C0604W05</td>\n",
       "      <td>POINT (-110.99000 39.21000)</td>\n",
       "    </tr>\n",
       "    <tr>\n",
       "      <th>6402</th>\n",
       "      <td>C0118F04</td>\n",
       "      <td>POINT (-122.55000 44.75000)</td>\n",
       "    </tr>\n",
       "    <tr>\n",
       "      <th>6403</th>\n",
       "      <td>C0114F06</td>\n",
       "      <td>POINT (-122.88000 44.46000)</td>\n",
       "    </tr>\n",
       "    <tr>\n",
       "      <th>6404</th>\n",
       "      <td>C1209W05</td>\n",
       "      <td>POINT (-71.43000 42.64000)</td>\n",
       "    </tr>\n",
       "  </tbody>\n",
       "</table>\n",
       "<p>6405 rows × 2 columns</p>\n",
       "</div>"
      ],
      "text/plain": [
       "       RaCA_Id                     geometry\n",
       "0     C0107F02  POINT (-124.65000 48.27000)\n",
       "1     C0104F05  POINT (-124.52000 47.92000)\n",
       "2     C0104F09  POINT (-124.50000 47.90000)\n",
       "3     C0120P02  POINT (-124.49000 42.80000)\n",
       "4     C0104F03  POINT (-124.48000 46.80000)\n",
       "...        ...                          ...\n",
       "6400  C0606W02  POINT (-110.77000 39.46000)\n",
       "6401  C0604W05  POINT (-110.99000 39.21000)\n",
       "6402  C0118F04  POINT (-122.55000 44.75000)\n",
       "6403  C0114F06  POINT (-122.88000 44.46000)\n",
       "6404  C1209W05   POINT (-71.43000 42.64000)\n",
       "\n",
       "[6405 rows x 2 columns]"
      ]
     },
     "execution_count": 12,
     "metadata": {},
     "output_type": "execute_result"
    }
   ],
   "source": [
    "# Creating a GeoDataFrame from a DataFrame by creating a new column geomtry and setting a CRS value to it. \n",
    "\n",
    "general_location_df['geometry'] = [Point(x,y) for x,y in zip(general_location_df['Gen_long'], general_location_df['Gen_lat'])]\n",
    "general_location_gdf = gpd.GeoDataFrame(data=general_location_df, geometry=general_location_df['geometry'])\n",
    "general_location_gdf.drop(columns=['Gen_lat', 'Gen_long'], inplace=True)\n",
    "general_location_gdf.set_crs(epsg=4269, inplace=True"
   ]
  },
  {
   "cell_type": "code",
   "execution_count": 8,
   "id": "4b794945-1a62-4078-bd6c-33e31fcf2a7b",
   "metadata": {},
   "outputs": [
    {
     "data": {
      "text/plain": [
       "<Geographic 2D CRS: EPSG:4269>\n",
       "Name: NAD83\n",
       "Axis Info [ellipsoidal]:\n",
       "- Lat[north]: Geodetic latitude (degree)\n",
       "- Lon[east]: Geodetic longitude (degree)\n",
       "Area of Use:\n",
       "- name: North America - onshore and offshore: Canada - Alberta; British Columbia; Manitoba; New Brunswick; Newfoundland and Labrador; Northwest Territories; Nova Scotia; Nunavut; Ontario; Prince Edward Island; Quebec; Saskatchewan; Yukon. Puerto Rico. United States (USA) - Alabama; Alaska; Arizona; Arkansas; California; Colorado; Connecticut; Delaware; Florida; Georgia; Hawaii; Idaho; Illinois; Indiana; Iowa; Kansas; Kentucky; Louisiana; Maine; Maryland; Massachusetts; Michigan; Minnesota; Mississippi; Missouri; Montana; Nebraska; Nevada; New Hampshire; New Jersey; New Mexico; New York; North Carolina; North Dakota; Ohio; Oklahoma; Oregon; Pennsylvania; Rhode Island; South Carolina; South Dakota; Tennessee; Texas; Utah; Vermont; Virginia; Washington; West Virginia; Wisconsin; Wyoming. US Virgin Islands. British Virgin Islands.\n",
       "- bounds: (167.65071105957, 14.928194130078, -47.743430543984, 86.453745196084)\n",
       "Datum: North American Datum 1983\n",
       "- Ellipsoid: GRS 1980\n",
       "- Prime Meridian: Greenwich"
      ]
     },
     "execution_count": 8,
     "metadata": {},
     "output_type": "execute_result"
    }
   ],
   "source": [
    "general_location_gdf.crs"
   ]
  },
  {
   "cell_type": "code",
   "execution_count": 13,
   "id": "5b10cafc-a0b0-4427-9f94-f9d29d811e31",
   "metadata": {},
   "outputs": [
    {
     "name": "stdout",
     "output_type": "stream",
     "text": [
      "User Guide: https://docs.kepler.gl/docs/keplergl-jupyter\n"
     ]
    },
    {
     "data": {
      "application/vnd.jupyter.widget-view+json": {
       "model_id": "",
       "version_major": 2,
       "version_minor": 0
      },
      "text/plain": [
       "KeplerGl(data={'area_of_interest': {'index': [0, 1, 2, 3, 4, 5, 6, 7, 8, 9, 10, 11, 12, 13, 14, 15, 16, 17, 18…"
      ]
     },
     "metadata": {},
     "output_type": "display_data"
    }
   ],
   "source": [
    "base_map_1 = KeplerGl(height=600, width=800)\n",
    "base_map_1.add_data(data=general_location_gdf.copy(), name = 'area_of_interest')\n",
    "base_map_1"
   ]
  },
  {
   "cell_type": "code",
   "execution_count": 21,
   "id": "814f6c20-614f-4c50-9fd9-e947cd8dc024",
   "metadata": {},
   "outputs": [],
   "source": [
    "general_location_gdf.to_file(filename='general_location_processes.geojson', driver='GeoJSON')"
   ]
  },
  {
   "cell_type": "code",
   "execution_count": null,
   "id": "794ec702-022c-4f27-aec1-e5129cd19e75",
   "metadata": {},
   "outputs": [],
   "source": []
  }
 ],
 "metadata": {
  "kernelspec": {
   "display_name": "Python 3 (ipykernel)",
   "language": "python",
   "name": "python3"
  },
  "language_info": {
   "codemirror_mode": {
    "name": "ipython",
    "version": 3
   },
   "file_extension": ".py",
   "mimetype": "text/x-python",
   "name": "python",
   "nbconvert_exporter": "python",
   "pygments_lexer": "ipython3",
   "version": "3.7.10"
  }
 },
 "nbformat": 4,
 "nbformat_minor": 5
}
